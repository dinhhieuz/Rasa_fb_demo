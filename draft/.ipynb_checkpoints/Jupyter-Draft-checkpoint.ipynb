{
 "cells": [
  {
   "cell_type": "code",
   "execution_count": 1,
   "metadata": {},
   "outputs": [
    {
     "name": "stdout",
     "output_type": "stream",
     "text": [
      "1\n"
     ]
    }
   ],
   "source": [
    "import json\n",
    "import random, string\n",
    "\n",
    "my_json = {\n",
    "        'id': '109523555015462', \n",
    "        'time': 1647053291651, \n",
    "        'messaging': [\n",
    "            {\n",
    "                'sender': {'id': '4857932260991004'}, \n",
    "                'recipient': {'id': '109523555015462'}, \n",
    "                'timestamp': 1647053291403, \n",
    "                'message': {\n",
    "                    \"type\": \"one_time_notif_req\",\n",
    "                    \"payload\": \"đăng ký gữi tự động lương\",\n",
    "                    \"one_time_notif_token\": \"7089066037755021622\"\n",
    "                }\n",
    "            }\n",
    "        ]\n",
    "    }\n",
    "if 'optin' in my_json['messaging'][0].keys():\n",
    "    if my_json['messaging'][0][\"optin\"][\"type\"] == 'one_time_notif_req':\n",
    "        import random, string\n",
    "        random_word = lambda length: ''.join(random.choice(string.ascii_lowercase) for i in range(length))\n",
    "        my_json['messaging'][0]['message'] = {\n",
    "                        \"mid\": 'm_{0}-{1}_{2}-{3}'.format(random_word(10), random_word(14), random_word(29), random_word(30)),\n",
    "                        \"text\": my_json['messaging'][0][\"optin\"][\"payload\"] + ' | ' + my_json['messaging'][0][\"optin\"][\"one_time_notif_token\"]\n",
    "                    }\n",
    "        del my_json['messaging'][0]['optin']\n",
    "else:\n",
    "    print('1')\n"
   ]
  },
  {
   "cell_type": "code",
   "execution_count": 1,
   "metadata": {},
   "outputs": [
    {
     "name": "stdout",
     "output_type": "stream",
     "text": [
      "\u001b[0;30;43mSuccess!\u001b[0m\n"
     ]
    }
   ],
   "source": [
    "print('\\x1b[0;30;43m' + 'Success!' + '\\x1b[0m')"
   ]
  },
  {
   "cell_type": "code",
   "execution_count": 62,
   "metadata": {},
   "outputs": [
    {
     "data": {
      "text/plain": [
       "30"
      ]
     },
     "execution_count": 62,
     "metadata": {},
     "output_type": "execute_result"
    }
   ],
   "source": [
    "len('SKdH3g163ori1WSyPyHWqg6nlZTcLA')"
   ]
  },
  {
   "cell_type": "code",
   "execution_count": 66,
   "metadata": {},
   "outputs": [
    {
     "name": "stdout",
     "output_type": "stream",
     "text": [
      "88\n"
     ]
    }
   ],
   "source": [
    "import random, string\n",
    "randomword = lambda length: ''.join(random.choice(string.ascii_lowercase) for i in range(length))\n",
    "a = 'm_{0}-{1}_{2}-{3}'.format(randomword(10), randomword(14), randomword(29), randomword(30))\n",
    "print(len(a))"
   ]
  },
  {
   "cell_type": "code",
   "execution_count": 104,
   "metadata": {},
   "outputs": [
    {
     "name": "stdout",
     "output_type": "stream",
     "text": [
      "------------------------------\n",
      "{\n",
      "    \"id\": \"109523555015462\",\n",
      "    \"time\": 1647053291651,\n",
      "    \"messaging\": [\n",
      "        {\n",
      "            \"sender\": {\n",
      "                \"id\": \"4857932260991004\"\n",
      "            },\n",
      "            \"recipient\": {\n",
      "                \"id\": \"109523555015462\"\n",
      "            },\n",
      "            \"timestamp\": 1647053291403,\n",
      "            \"hi\\u1ebfu\": \"01\"\n",
      "        }\n",
      "    ]\n",
      "}\n"
     ]
    }
   ],
   "source": [
    "a = {\n",
    "        'id': '109523555015462', \n",
    "        'time': 1647053291651, \n",
    "        'messaging': [\n",
    "            {\n",
    "                'sender': {'id': '4857932260991004'}, \n",
    "                'recipient': {'id': '109523555015462'}, \n",
    "                'timestamp': 1647053291403, \n",
    "                'optin': {\n",
    "                    'mid': 'm_E3Z93x_Yza_PWqIlyV4JDn2zI_O641bhB3KEhNDGS9e0SsmYb8KNnOYlfYoIbCmIt16QD0Z0quM2sgoKRNIIrw', \n",
    "                    'text': 'chào'\n",
    "                }\n",
    "            }\n",
    "        ]\n",
    "    }\n",
    "del a['messaging'][0]['optin']\n",
    "a['messaging'][0]['hiếu'] = '01' \n",
    "print('-'*30)\n",
    "print(json.dumps(a, indent = 4))"
   ]
  },
  {
   "cell_type": "code",
   "execution_count": 98,
   "metadata": {},
   "outputs": [
    {
     "name": "stdout",
     "output_type": "stream",
     "text": [
      "Old dictionary- {1: 'January', 2: 'Febuary', 3: 'March'}\n",
      "New dictionary- {1: 'January', 3: 'March', 2.2: 'Febuary'}\n"
     ]
    }
   ],
   "source": [
    "dict_ex={ 1: 'January', 2:'Febuary', 3:'March' }\n",
    "print(\"Old dictionary-\",dict_ex)\n",
    "dict_ex[2.2] = dict_ex.pop(2)\n",
    "print(\"New dictionary-\",dict_ex)"
   ]
  },
  {
   "cell_type": "code",
   "execution_count": 16,
   "metadata": {},
   "outputs": [
    {
     "name": "stdout",
     "output_type": "stream",
     "text": [
      "3\n",
      "4\n",
      "\n",
      "Bảng tiền lương của tháng 1 năm 2022:\n",
      "   Tên: Hiếu (mã nv)\n",
      "   Bộ phận: Giám đốc\n",
      "      + Thu nhập: 123123\n",
      "      + Ứng trước: 123123\n",
      "      + Còn lại: 12312321\n",
      "\n"
     ]
    }
   ],
   "source": [
    "import pandas as pd\n",
    "d = {'col1': [1, 2], 'col2': [3, 4]}\n",
    "df = pd.DataFrame(data=d)\n",
    "a = \"\"\"\n",
    "Bảng tiền lương của tháng {0} năm {1}:\n",
    "\"\"\".format(1,2022) + \"\"\"   Tên: Hiếu (mã nv)\n",
    "   Bộ phận: Giám đốc\n",
    "      + Thu nhập: 123123\n",
    "      + Ứng trước: 123123\n",
    "      + Còn lại: 12312321\n",
    "\"\"\"\n",
    "for i in range(len(d)):\n",
    "    print(d[\"col2\"][i])\n",
    "print(a)"
   ]
  },
  {
   "cell_type": "code",
   "execution_count": 63,
   "metadata": {},
   "outputs": [
    {
     "name": "stdout",
     "output_type": "stream",
     "text": [
      "  id_fb check_send\n",
      "0     0          0\n",
      "1     1          1\n",
      "2     2          2\n",
      "3     3          3\n",
      "4     4          4\n"
     ]
    }
   ],
   "source": [
    "import pandas as pd\n",
    "df = pd.DataFrame(columns=['id_fb','check_send'])\n",
    "for i in range(5):\n",
    "    df = df.append({'id_fb': i, 'check_send':i}, ignore_index=True)\n",
    "print(df)\n"
   ]
  },
  {
   "cell_type": "code",
   "execution_count": 2,
   "metadata": {},
   "outputs": [
    {
     "name": "stderr",
     "output_type": "stream",
     "text": [
      "/home/dsa-server/anaconda3/lib/python3.7/site-packages/requests/__init__.py:91: RequestsDependencyWarning: urllib3 (1.26.8) or chardet (3.0.4) doesn't match a supported version!\n",
      "  RequestsDependencyWarning)\n"
     ]
    },
    {
     "name": "stdout",
     "output_type": "stream",
     "text": [
      "             token_otn check_send\n",
      "0  3734985410823306900      false\n",
      "1  6557556848068744744      false\n",
      "2  7425011328569098440      false\n"
     ]
    }
   ],
   "source": [
    "import requests\n",
    "import json\n",
    "import pandas as pd\n",
    "InputDataSet = {\n",
    "    'stt_l': [5, 1, 2], \n",
    "    'ma_nv': [1, 4, 5], \n",
    "    'id_fb': ['4857932260991004', '4857932260991004', '4857932260991004'], \n",
    "    'ten_nv': ['Trần Đình Hiếu', 'Trần Đình Yến', 'Trần Đình Vũ'], \n",
    "    'ten_bp': ['Chủ tịch', 'Chủ tịch', 'Chủ tịch'], \n",
    "    'thu_nhap': [791676587, 291676587, 916765874],\n",
    "    'tinh_tru': [202262451, 302262451, 102262451],\n",
    "    'con_lai': [514503432, 123514503, 514503423],\n",
    "    'year_l': [2021, 2022, 2022],\n",
    "    'month_l': [12, 4, 5],\n",
    "    'stt_o': [1, 2, 3],\n",
    "    'send_id': ['4857933212991004', '4857932260991004', '4857932260991004'],\n",
    "    'token_otn': ['3734985410823306900', '6557556848068744744', '7425011328569098440'],\n",
    "    'date_mfg': ['2022-03-01', '2022-03-02', '2022-03-03'],\n",
    "    'date_exp': ['2023-04-01', '2023-03-02', '2023-03-01'],\n",
    "    'date_exec': [None, '2022-06-04', None],\n",
    "               }\n",
    "db = pd.DataFrame(data=InputDataSet)\n",
    "#---------------------------------------\n",
    "\n",
    "\n",
    "df_check = pd.DataFrame(columns=['token_otn','check_send'])\n",
    "\n",
    "access_token = \"EAAdiPQ5GoRsBAINBQ2aXU9EWabUHLoSNr4MJXS0rwd1em9H89kRqvFIRf2Ad2PZBCW6B084YggWRP60ZBp0IMkclebPht4W7xuprnjmX0e7dYQUM0VeH021hZB5Oh7htrTy90sd8ZAQkrr0adQBz6fl2fgvWpg2bzZAkVBQDwbH8OcrWJKh3F\"\n",
    "end_point = f\"https://graph.facebook.com/v13.0/me/messages?access_token={access_token}\"\n",
    "   \n",
    "for i in range(len(db)):\n",
    "    contents = \"\"\"\n",
    "Bảng tiền lương của tháng {0} năm {1}:  \n",
    "Tên: {2} (mã nv: {3})\n",
    "Bộ phận: {4}\n",
    "    + Thu nhập: {5}\n",
    "    + Ứng trước: {6}\n",
    "    + Còn lại: {7}\n",
    "\"\"\".format(db[\"month_l\"][i], db[\"year_l\"][i], db[\"ten_nv\"][i], db[\"ma_nv\"][i], db[\"ten_bp\"][i], db[\"thu_nhap\"][i], db[\"tinh_tru\"][i], db[\"con_lai\"][i])\n",
    "    notice_token = db[\"token_otn\"][i]\n",
    "    payload = {\n",
    "                \"recipient\": {\n",
    "                    \"one_time_notif_token\": notice_token\n",
    "                },\n",
    "                \"message\": {\n",
    "                    \"text\": contents\n",
    "                }\n",
    "              }\n",
    "    response = requests.post(end_point, data=json.dumps(payload), headers={\"content-type\": \"application/json\"}).json()\n",
    "    if 'error' in response.keys(): check = 'false' \n",
    "    else: check = 'true'\n",
    "    \n",
    "    df_check = df_check.append({'token_otn': notice_token, 'check_send':check}, ignore_index=True)\n",
    "    \n",
    "    #TODO: Nếu update thành công thì cập nhật mã token trạng thái\n",
    "print(df_check)"
   ]
  },
  {
   "cell_type": "code",
   "execution_count": null,
   "metadata": {},
   "outputs": [],
   "source": [
    "\n",
    "    \n",
    "response = {'recipient_id': '4857932260991004', 'message_id': 'm_OAxRlMt1CRDsVkf8D9BN0n2zI_O641bhB3KEhNDGS9dAduZH6jc_LZXN3IjLRkN9noXjFRsgXK3u2S_JKfHWQw'}\n",
    "print(response)\n",
    "if 'error' in response.keys(): check = 'false' \n",
    "else: check = 'true'\n",
    "print(check)"
   ]
  },
  {
   "cell_type": "code",
   "execution_count": 3,
   "metadata": {},
   "outputs": [
    {
     "name": "stdout",
     "output_type": "stream",
     "text": [
      "<Response [200]>\n"
     ]
    }
   ],
   "source": [
    "import requests\n",
    "response = requests.get(url = \"https://6237d6d9f5f6e28a154f3fa2.mockapi.io/add\")\n",
    "print(response)"
   ]
  },
  {
   "cell_type": "code",
   "execution_count": null,
   "metadata": {},
   "outputs": [],
   "source": [
    "import subprocess\n",
    "import sys\n",
    "\n",
    "def install(package):\n",
    "    subprocess.check_call([\"ping\", \"google.com\"])\n",
    "install(\"requests\")"
   ]
  },
  {
   "cell_type": "code",
   "execution_count": null,
   "metadata": {},
   "outputs": [],
   "source": [
    "import requests\n",
    "\n",
    "response = requests.get(url = \"https://6237d6d9f5f6e28a154f3fa2.mockapi.io/add\")\n",
    "print(response)"
   ]
  },
  {
   "cell_type": "markdown",
   "metadata": {},
   "source": [
    "### Zalo - Sending automation salary\n"
   ]
  },
  {
   "cell_type": "code",
   "execution_count": 98,
   "metadata": {},
   "outputs": [
    {
     "name": "stdout",
     "output_type": "stream",
     "text": [
      "{'error': -201, 'message': 'Missing message params'}\n"
     ]
    }
   ],
   "source": [
    "#------> Send message of type TEXT\n",
    "import requests\n",
    "import json\n",
    "access_token = \"N6lRSuG86YTHQjXtYGeR8r5Zq72675TmCohT8f136Gf3UwStxL9W4ZmseGMCB2iaFohfChuQH1mM5C8fndKT0qvqlIteNty-GKU-CDHPUWT2GDuTuKbp4L9tzKBY551uUWwNJUeFL1X7FUK-y0qWDaC9WIARDne8Jnp5M-C_Mmfx090XupHHCKKDvJNJ9207O264Dx0bB6Cw3hnFh0mW61uDcap8DYbT6r2MHPfOCa0NFgzZWYSjK3O5g4k1RJnXENQ3MQ5_1tOvUATTdMy3R1b7f5wBTnD894UOHgPH66WUOxuvbLudQpDWXdswH4PwBMF7Lua60WOG7CPKu57oOeWK62a\"\n",
    "end_point = \"https://openapi.zalo.me/v2.0/oa/message\"\n",
    "contents = 1\n",
    "payload = {\n",
    "              \"recipient\": {\n",
    "                \"user_id\": \"8668477534363029464\"\n",
    "              },\n",
    "              \"message\": {\n",
    "                \"text\": \"\\u000b\\u0000\\u0001\\u0000\\u0000\\u0000qBẢNG LƯƠNG CỦA THÁNG 5 NĂM 2022\\nTên: Trần Đình Hiếu\\nNSinh: 21/08/2000\\nChức vụ: Trùm chợ gà\\u000b\\u0000\\u0002\\u0000\\u0000\\u0000\\u0000\\u000b\\u0000\\u0003\\u0000\\u0000\\u0000\\u0000\\u000b\\u0000\\u0004\\u0000\\u0000\\u0000\\u0000\\u0006\\u0000\\u0005\\u0000\\u0000\\u000b\\u0000\\u0006\\u0000\\u0000\\u0000\\u0003rtf\\u000b\\u0000\\u0007\\u0000\\u0000\\u0001�{\\\"styles\\\":[{\\\"start\\\":0,\\\"len\\\":21,\\\"st\\\":\\\"f_18,c_db342e\\\"},{\\\"start\\\":21,\\\"len\\\":1,\\\"st\\\":\\\"f_18,b,c_db342e\\\"},{\\\"start\\\":22,\\\"len\\\":5,\\\"st\\\":\\\"f_18,c_db342e\\\"},{\\\"start\\\":27,\\\"len\\\":4,\\\"st\\\":\\\"f_18,b,c_db342e\\\"},{\\\"start\\\":32,\\\"len\\\":19,\\\"st\\\":\\\"lst_1\\\"},{\\\"start\\\":36,\\\"len\\\":15,\\\"st\\\":\\\"b\\\"},{\\\"start\\\":52,\\\"len\\\":17,\\\"st\\\":\\\"lst_1\\\"},{\\\"start\\\":58,\\\"len\\\":11,\\\"st\\\":\\\"b\\\"},{\\\"start\\\":70,\\\"len\\\":20,\\\"st\\\":\\\"lst_1\\\"},{\\\"start\\\":78,\\\"len\\\":12,\\\"st\\\":\\\"b\\\"}],\\\"ver\\\":0}\\u000b\\u0000\\b\\u0000\\u0000\\u0000\\u0000\\u0000\"\n",
    "              }\n",
    "          }\n",
    "response = requests.post(end_point, data=json.dumps(payload), \n",
    "                         headers={\"content-type\": \"application/json\", \"access_token\": access_token}).json()\n",
    "print(response)"
   ]
  },
  {
   "cell_type": "code",
   "execution_count": null,
   "metadata": {},
   "outputs": [],
   "source": [
    "#------> Send message of type UPLOAD IMAGE\n",
    "import requests\n",
    "import json\n",
    "access_token = \"Jx-iMXx0-bv2lgzU4yBxMaAtfraSrF4Q6Exc43JmrX4iZFaL2_B-ToNUgoOcrPXIOi-V3bpapWXgnTrVCSFQ0otywqXpyjO-BT61L0VPlWmMtwvKDF3zCH3Vu5CxnFmxEyseR0Z1fmiltFTkVk3x7rx8vcvUmj4nViZ3GaNHopbZxEf-IC_N25dI-rLMv_4qTVZkFcQOkNqzfwiu5fYbPpECWYC8hOXx9BZUV3o6ooSzWlXJ09VP6G6Lr4qYZiavVfUSVbYWdpLesfjpLgUK3tQGddndjQfzPQYEE5wNj7D5bfiUUAEfQ42OkXPJiBLM0fwYKJkyb3CzcQL9IsbDPJ8ItFXG\"\n",
    "end_point = \"https://openapi.zalo.me/v2.0/oa/message?access_token=\" + access_token\n",
    "contents = 1\n",
    "payload = { \n",
    "  \"recipient\": {\n",
    "    \"user_id\": \"8668477534363029464\"\n",
    "  },\n",
    "  \"message\": {\n",
    "    \"text\": \"Zalo đạt 100 triệu người dùng\",\n",
    "    \"attachment\": {\n",
    "        \"type\": \"template\",\n",
    "        \"payload\": {\n",
    "            \"template_type\": \"media\",\n",
    "            \"elements\": [{\n",
    "                \"media_type\": \"image\",\n",
    "                \"attachment_id\": \"wESbL53O_shdvIPILC7iR_JpC552r_fjukKg\",\n",
    "#                 \"url\": \"https://interactive-examples.mdn.mozilla.net/media/cc0-images/grapefruit-slice-332-332.jpg\"\n",
    "            }]\n",
    "        }\n",
    "    }\n",
    "  }\n",
    "}\n",
    "response = requests.post(end_point, data=json.dumps(payload), headers={\"content-type\": \"application/json\"}).json()\n",
    "print(response)\n"
   ]
  },
  {
   "cell_type": "code",
   "execution_count": 59,
   "metadata": {},
   "outputs": [
    {
     "name": "stdout",
     "output_type": "stream",
     "text": [
      "{'data': {'message_id': '62f26b15e0c5099850d7', 'user_id': '8668477534363029464'}, 'error': 0, 'message': '[Warning] AccessToken should be placed in header'}\n"
     ]
    }
   ],
   "source": [
    "#------> Send message of type IMAGE\n",
    "import requests\n",
    "import json\n",
    "access_token = \"N6lRSuG86YTHQjXtYGeR8r5Zq72675TmCohT8f136Gf3UwStxL9W4ZmseGMCB2iaFohfChuQH1mM5C8fndKT0qvqlIteNty-GKU-CDHPUWT2GDuTuKbp4L9tzKBY551uUWwNJUeFL1X7FUK-y0qWDaC9WIARDne8Jnp5M-C_Mmfx090XupHHCKKDvJNJ9207O264Dx0bB6Cw3hnFh0mW61uDcap8DYbT6r2MHPfOCa0NFgzZWYSjK3O5g4k1RJnXENQ3MQ5_1tOvUATTdMy3R1b7f5wBTnD894UOHgPH66WUOxuvbLudQpDWXdswH4PwBMF7Lua60WOG7CPKu57oOeWK62a\"\n",
    "end_point = \"https://openapi.zalo.me/v2.0/oa/message?access_token=\" + access_token\n",
    "contents = 1\n",
    "payload = { \n",
    "  \"recipient\": {\n",
    "    \"user_id\": \"8668477534363029464\"\n",
    "  },\n",
    "  \"message\": {\n",
    "    \"text\": \"Zalo đạt 100 triệu người dùng\",\n",
    "    \"attachment\": {\n",
    "        \"type\": \"template\",\n",
    "        \"payload\": {\n",
    "            \"template_type\": \"media\",\n",
    "            \"elements\": [{\n",
    "                \"media_type\": \"image\",\n",
    "                \"attachment_id\": \"ejIwChsZGZYgqhqnlg5PAwd5goMxiKy_hTMzDBwaMIwlmAiqul8NVBIEy6lpkbiofOY-P_EfMo--WETujRnE9FxKy7BqeGfvwDFpUFYi0dFeq_v--wGEVl61z76nfbXvyDYfTR2eKNobtQ1nvhK2EMSYVIL6o3Zyi4Ce\",\n",
    "#                 \"url\": \"https://interactive-examples.mdn.mozilla.net/media/cc0-images/grapefruit-slice-332-332.jpg\"\n",
    "            }]\n",
    "        }\n",
    "    }\n",
    "  }\n",
    "}\n",
    "response = requests.post(end_point, data=json.dumps(payload), headers={\"content-type\": \"application/json\"}).json()\n",
    "print(response)"
   ]
  },
  {
   "cell_type": "code",
   "execution_count": 44,
   "metadata": {},
   "outputs": [
    {
     "name": "stdout",
     "output_type": "stream",
     "text": [
      "{'image': ('img.png', <_io.BufferedReader name='img.png'>, 'multipart/form-data')}\n",
      "{'error': -201, 'message': 'File not exist!'}\n"
     ]
    },
    {
     "data": {
      "image/png": "[encoded data removed]",
      "text/plain": [
       "<Figure size 720x360 with 1 Axes>"
      ]
     },
     "metadata": {
      "needs_background": "light"
     },
     "output_type": "display_data"
    }
   ],
   "source": [
    "import numpy as np\n",
    "import matplotlib.pyplot as plt\n",
    " \n",
    "  \n",
    "# creating the dataset\n",
    "data = {'C':20, 'C++':15, 'Java':30,\n",
    "        'Python':35}\n",
    "courses = list(data.keys())\n",
    "values = list(data.values())\n",
    "  \n",
    "fig = plt.figure(figsize = (10, 5))\n",
    " \n",
    "# creating the bar plot\n",
    "plt.bar(courses, values, color ='maroon',\n",
    "        width = 0.4)\n",
    " \n",
    "plt.xlabel(\"Courses offered\")\n",
    "plt.ylabel(\"No. of students enrolled\")\n",
    "plt.title(\"Students enrolled in different courses\")\n",
    "plt.savefig('img.png', format='png', bbox_inches='tight',dpi = 80)\n",
    "\n",
    "\n",
    "\n",
    "import requests\n",
    "\n",
    "from os import path\n",
    "\n",
    "filename = 'img.png'  # name example\n",
    "up = {'image':(filename, open(filename, 'rb'), \"multipart/form-data\")}\n",
    "#-----------------\n",
    "#------> Send message of type IMAGE\n",
    "import requests\n",
    "import json\n",
    "\n",
    "access_token = \"N6lRSuG86YTHQjXtYGeR8r5Zq72675TmCohT8f136Gf3UwStxL9W4ZmseGMCB2iaFohfChuQH1mM5C8fndKT0qvqlIteNty-GKU-CDHPUWT2GDuTuKbp4L9tzKBY551uUWwNJUeFL1X7FUK-y0qWDaC9WIARDne8Jnp5M-C_Mmfx090XupHHCKKDvJNJ9207O264Dx0bB6Cw3hnFh0mW61uDcap8DYbT6r2MHPfOCa0NFgzZWYSjK3O5g4k1RJnXENQ3MQ5_1tOvUATTdMy3R1b7f5wBTnD894UOHgPH66WUOxuvbLudQpDWXdswH4PwBMF7Lua60WOG7CPKu57oOeWK62a\"\n",
    "end_point = \"https://openapi.zalo.me/v2.0/oa/upload/image\"\n",
    "# ---\n",
    "response = requests.post(url = end_point, files = up, headers={\"access_token\": access_token}).json()\n",
    "print(response)\n",
    "\n",
    "\n",
    "# plt.savefig(f'1.png', format='png', bbox_inches='tight',dpi = 80)"
   ]
  },
  {
   "cell_type": "code",
   "execution_count": 11,
   "metadata": {},
   "outputs": [
    {
     "name": "stdout",
     "output_type": "stream",
     "text": [
      "<Response [200]>\n",
      "đã gửi được cho khách hàng\n"
     ]
    },
    {
     "data": {
      "image/png": "[encoded data removed]",
      "text/plain": [
       "<Figure size 432x270 with 1 Axes>"
      ]
     },
     "metadata": {
      "needs_background": "light"
     },
     "output_type": "display_data"
    }
   ],
   "source": [
    "import numpy as np #-> ver: 1.19.5\n",
    "import six #-> ver: 1.15.0\n",
    "import matplotlib.pyplot as plt #-> ver: 3.3.4\n",
    "import pandas as pd #-> ver: 1.3.5\n",
    "\n",
    "#----CREATE IMAGE\n",
    "def table(df = None, name_img = None, title = \"\"):  \n",
    "    try:\n",
    "        #----- Set column STT from Index\n",
    "        df.index = np.arange(1, len(df) + 1)\n",
    "        df = df.rename_axis('STT').reset_index()\n",
    "\n",
    "        def render_mpl_table(data, col_width=3.0, row_height=0.625, font_size=14,\n",
    "                            header_color='#40466e', row_colors=['#f1f1f2', 'w'], edge_color='w',\n",
    "                            bbox=[0, 0, 1, 1], header_columns=0,\n",
    "                            ax=None, **kwargs):\n",
    "            if ax is None:\n",
    "                size = (np.array(data.shape[::-1]) + np.array([0, 1])) * np.array([col_width, row_height])\n",
    "                fig, ax = plt.subplots(figsize=size)\n",
    "                #Title of table\n",
    "                ax.set_title(title, fontdict={'fontsize':18, 'fontweight':28,'verticalalignment': 'baseline'})\n",
    "                ax.axis('off')\n",
    "            ax.axis([0,1,data.shape[0],-1]) ## <---------- Change here\n",
    "            #---Param: Title table\n",
    "            mpl_table = ax.table(cellText=data.values, bbox=bbox, colLabels=data.columns, **kwargs)\n",
    "            mpl_table.auto_set_font_size(False)\n",
    "            mpl_table.set_fontsize(font_size)\n",
    "            mpl_table.auto_set_column_width(col=list(range(len(df.columns))))\n",
    "\n",
    "            for k, cell in six.iteritems(mpl_table._cells):\n",
    "                cell.set_edgecolor(edge_color)\n",
    "                if k[0] == 0 or k[1] < header_columns:\n",
    "                    cell.set_text_props(weight='bold', color='w')\n",
    "                    cell.set_facecolor(header_color)\n",
    "                else:\n",
    "                    cell.set_facecolor(row_colors[k[0]%len(row_colors) ])\n",
    "            return ax\n",
    "\n",
    "        def set_row_edge_color(ax, row, column, color):\n",
    "            #--Grid Row in the table\n",
    "            for x in range(-1, row+1): ax.axhline(x, color=color)\n",
    "            #--Grib Column in the table\n",
    "            # for y in range(column+1): ax.axvline(y/column, color=color)\n",
    "            for y in range(column): ax.axvline(y, color=color)\n",
    "\n",
    "        ax = render_mpl_table(df, header_columns=0, col_width=2.0)\n",
    "        set_row_edge_color(ax, df.shape[0], df.shape[1], 'k')\n",
    "        # Export Styled Table to PNG\n",
    "        #---File đang đứng ở chatbot_demo\n",
    "        plt.savefig(name_img, format='png', bbox_inches='tight',dpi = 80)\n",
    "\n",
    "        return 1\n",
    "    except:\n",
    "        return 0\n",
    "#---\n",
    "d = {'col1': [1, 2, 3, 4, 5], 'col2': [3, 4, 5, 6, 7]}\n",
    "#Dữ liệu bảng lương\n",
    "df = pd.DataFrame(data=d)\n",
    "#Thông tin bảng lương\n",
    "title = \"Pikachu\"\n",
    "name_img = \"img.png\"\n",
    "check = table(df = df, name_img = name_img, title = title)\n",
    "\n",
    "if check == 1:\n",
    "    #-----------------UPLOAD IMAGE TO SERVER ZALO\n",
    "    import requests\n",
    "    import json\n",
    "    url = \"https://openapi.zalo.me/v2.0/oa/upload/image\"\n",
    "    files = [\n",
    "      ('file',('file',open(name_img,'rb'),'multipart/form-data'))\n",
    "    ]\n",
    "    access_token = \"N6lRSuG86YTHQjXtYGeR8r5Zq72675TmCohT8f136Gf3UwStxL9W4ZmseGMCB2iaFohfChuQH1mM5C8fndKT0qvqlIteNty-GKU-CDHPUWT2GDuTuKbp4L9tzKBY551uUWwNJUeFL1X7FUK-y0qWDaC9WIARDne8Jnp5M-C_Mmfx090XupHHCKKDvJNJ9207O264Dx0bB6Cw3hnFh0mW61uDcap8DYbT6r2MHPfOCa0NFgzZWYSjK3O5g4k1RJnXENQ3MQ5_1tOvUATTdMy3R1b7f5wBTnD894UOHgPH66WUOxuvbLudQpDWXdswH4PwBMF7Lua60WOG7CPKu57oOeWK62a\"\n",
    "    headers = { 'access_token': access_token }\n",
    "\n",
    "    response = requests.request(\"POST\", url, headers = headers, files=files)\n",
    "    print(response)\n",
    "    #---------------SEND IMAGE TO USER\n",
    "    if response.ok:\n",
    "        end_point = \"https://openapi.zalo.me/v2.0/oa/message\"\n",
    "        user_id = \"8668477534363029464\"\n",
    "        text = \"BẢNG LƯƠNG CỦA THÁNG 5 NĂM 2022\\n   - Tên: TRẦN ĐÌNH HIẾU\\n   - Ngày Sinh: 21/08/2000\\n   - Chức vụ: TRÙM CHỢ GÀ\"\n",
    "        payload = { \n",
    "          \"recipient\": {\n",
    "            \"user_id\": user_id\n",
    "          },\n",
    "          \"message\": {\n",
    "            \"text\": text,\n",
    "            \"attachment\": {\n",
    "                \"type\": \"template\",\n",
    "                \"payload\": {\n",
    "                    \"template_type\": \"media\",\n",
    "                    \"elements\": [{\n",
    "                        \"media_type\": \"image\",\n",
    "                        \"attachment_id\": response.json()[\"data\"].get(\"attachment_id\"),\n",
    "        #                 \"url\": \"https://interactive-examples.mdn.mozilla.net/media/cc0-images/grapefruit-slice-332-332.jpg\"\n",
    "                    }]\n",
    "                }\n",
    "            }\n",
    "          }\n",
    "        }\n",
    "        response = requests.post(end_point, data=json.dumps(payload), headers = headers)\n",
    "        if response.ok:\n",
    "            print('send success')\n",
    "        else:\n",
    "            print('send failed')\n",
    "    else:\n",
    "        print(\"upload image failed\")\n",
    "else:\n",
    "    print(\"create image failed\")"
   ]
  },
  {
   "cell_type": "code",
   "execution_count": 72,
   "metadata": {},
   "outputs": [
    {
     "data": {
      "image/png": "[encoded data removed]",
      "text/plain": [
       "<Figure size 1296x225 with 1 Axes>"
      ]
     },
     "metadata": {
      "needs_background": "light"
     },
     "output_type": "display_data"
    },
    {
     "data": {
      "image/png": "[encoded data removed]",
      "text/plain": [
       "<Figure size 1296x225 with 1 Axes>"
      ]
     },
     "metadata": {
      "needs_background": "light"
     },
     "output_type": "display_data"
    }
   ],
   "source": [
    "import numpy as np #-> ver: 1.19.5\n",
    "import six #-> ver: 1.15.0\n",
    "import matplotlib.pyplot as plt #-> ver: 3.3.4\n",
    "import pandas as pd #-> ver: 1.3.5\n",
    "\n",
    "#----CREATE IMAGE\n",
    "def table(df = None, name_img = None, title = \"\"):  \n",
    "    try:\n",
    "        #----- Set column STT from Index\n",
    "        df.index = np.arange(1, len(df) + 1)\n",
    "        df = df.rename_axis('STT').reset_index()\n",
    "\n",
    "        def render_mpl_table(data, col_width=3.0, row_height=0.625, font_size=14,\n",
    "                            header_color='#40466e', row_colors=['#f1f1f2', 'w'], edge_color='w',\n",
    "                            bbox=[0, 0, 1, 1], header_columns=0,\n",
    "                            ax=None, **kwargs):\n",
    "            if ax is None:\n",
    "                size = (np.array(data.shape[::-1]) + np.array([0, 1])) * np.array([col_width, row_height])\n",
    "                fig, ax = plt.subplots(figsize=size)\n",
    "                #Title of table\n",
    "                ax.set_title(title, fontdict={'fontsize':18, 'fontweight':28,'verticalalignment': 'baseline'})\n",
    "                ax.axis('off')\n",
    "            ax.axis([0,1,data.shape[0],-1]) ## <---------- Change here\n",
    "            #---Param: Title table\n",
    "            mpl_table = ax.table(cellText=data.values, bbox=bbox, colLabels=data.columns, **kwargs)\n",
    "            mpl_table.auto_set_font_size(False)\n",
    "            mpl_table.set_fontsize(font_size)\n",
    "            mpl_table.auto_set_column_width(col=list(range(len(df.columns))))\n",
    "\n",
    "            for k, cell in six.iteritems(mpl_table._cells):\n",
    "                cell.set_edgecolor(edge_color)\n",
    "                if k[0] == 0 or k[1] < header_columns:\n",
    "                    cell.set_text_props(weight='bold', color='w')\n",
    "                    cell.set_facecolor(header_color)\n",
    "                else:\n",
    "                    cell.set_facecolor(row_colors[k[0]%len(row_colors) ])\n",
    "            return ax\n",
    "\n",
    "        def set_row_edge_color(ax, row, column, color):\n",
    "            #--Grid Row in the table\n",
    "            for x in range(-1, row+1): ax.axhline(x, color=color)\n",
    "            #--Grib Column in the table\n",
    "            # for y in range(column+1): ax.axvline(y/column, color=color)\n",
    "            for y in range(column): ax.axvline(y, color=color)\n",
    "\n",
    "        ax = render_mpl_table(df, header_columns=0, col_width=2.0)\n",
    "        set_row_edge_color(ax, df.shape[0], df.shape[1], 'k')\n",
    "        # Export Styled Table to PNG\n",
    "        #---File đang đứng ở chatbot_demo\n",
    "        \n",
    "#         plt.savefig(name_img, format='png', bbox_inches='tight',dpi = 80)\n",
    "        plt.show()\n",
    "\n",
    "        return 1\n",
    "    except:\n",
    "        return 0\n",
    "#---\n",
    "import pandas as pd\n",
    "InputDataSet = {\n",
    "    'id_user': [1, 1, 1, 1, 2, 2, 2, 2], \n",
    "    'name_u': ['TRẦN ĐÌNH HIẾU', 'TRẦN ĐÌNH HIẾU', 'TRẦN ĐÌNH HIẾU' ,'TRẦN ĐÌNH HIẾU', 'TRẦN ĐÌNH HÒA', 'TRẦN ĐÌNH HÒA', 'TRẦN ĐÌNH HÒA' ,'TRẦN ĐÌNH HÒA'], \n",
    "    'birth': ['21/08/2000', '21/08/2000', '21/08/2000', '21/08/2000', '21/08/2000', '21/08/2000', '21/08/2000', '21/08/2000'], \n",
    "    'position': ['Trùm trung bộ', 'Trùm trung bộ', 'Trùm trung bộ', 'Trùm trung bộ', 'Trùm trung bộ', 'Trùm trung bộ', 'Trùm trung bộ', 'Trùm trung bộ'], \n",
    "    'id_salary': [1, 1, 1, 1, 2, 2, 2, 2], \n",
    "    'month_s': [3, 3, 3, 3, 3, 3, 3, 3],\n",
    "    'year_s': [2022, 2022, 2022, 2022, 2022, 2022, 2022, 2022],\n",
    "    'id_product': [1, 1, 5, 4, 1, 1, 5, 4],\n",
    "    'name_p': ['Sầu riêng', 'Sầu riêng', 'Dưa háo', 'Chuối gai', 'Sầu riêng', 'Sầu riêng', 'Dưa háo', 'Chuối gai'],\n",
    "    'date_d': ['2022-03-27', '2022-03-10', '2022-03-07', '2022-03-13', '2022-03-27', '2022-03-10', '2022-03-07', '2022-03-13'],\n",
    "    'price_p': [50000, 50000, 10000, 20000, 50000, 50000, 10000, 20000],\n",
    "    'number': [51, 2, 39, 56, 51, 2, 39, 56],\n",
    "    'charge': [2550000, 100000, 390000, 1120000, 2550000, 100000, 390000, 1120000],\n",
    "    'advance': [4160000, 4160000, 4160000, 4160000, 4160000, 4160000, 4160000, 4160000],\n",
    "    'date_exp': [639708, 639708, 639708, 639708, 639708, 639708, 639708, 639708],\n",
    "    'remaing': [3520292, 3520292, 3520292, 3520292,3520292, 3520292, 3520292, 3520292]\n",
    "               }\n",
    "\n",
    "db = pd.DataFrame(data=InputDataSet)\n",
    "#-------------------------------------------\n",
    "#Dữ liệu bảng lương\n",
    "user = db[['id_user', 'name_u', 'birth', 'position', 'month_s', 'year_s', 'advance', 'date_exp', 'remaing']].drop_duplicates().reset_index()\n",
    "salary = db[['id_salary', 'id_user', 'id_product', 'name_p', 'date_d', 'price_p', 'number', 'charge']]\n",
    "salary.rename(columns={\"id_salary\":\"Mã lương\", \"id_user\":\"Mã NV\", \"id_product\":\"Mã NV\", \"name_p\":\"Tên SP\", \"date_d\":\"Ngày làm\", \"Đơn giá\":\"Mã NV\", \"number\":\"Số lượng\", \"charge\":\"Thành tiền\"} ,inplace=True)\n",
    "# chạy từng user\n",
    "for i in range(len(user)):\n",
    "# Thông tin bảng lương\n",
    "# title = \"BẢNG LƯƠNG THÁNG {0} NĂM {1}\".format(user['month_s'], user['year_s'])\n",
    "    title = \"BẢNG LƯƠNG THÁNG {0} NĂM {1} (Tên: {2} - Chức vụ: {3})\".format(user['month_s'][i], user['year_s'][i], user['name_u'][i], user['position'][i])\n",
    "    name_img = \"img.png\"\n",
    "    check = table(df = salary.loc[salary[\"Mã NV\"]==user['id_user'][i]], name_img = name_img, title = title)\n",
    "\n",
    "# if check == 1:\n",
    "#     #-----------------UPLOAD IMAGE TO SERVER ZALO\n",
    "#     import requests\n",
    "#     import json\n",
    "#     url = \"https://openapi.zalo.me/v2.0/oa/upload/image\"\n",
    "#     files = [\n",
    "#       ('file',('file',open(name_img,'rb'),'multipart/form-data'))\n",
    "#     ]\n",
    "#     access_token = \"N6lRSuG86YTHQjXtYGeR8r5Zq72675TmCohT8f136Gf3UwStxL9W4ZmseGMCB2iaFohfChuQH1mM5C8fndKT0qvqlIteNty-GKU-CDHPUWT2GDuTuKbp4L9tzKBY551uUWwNJUeFL1X7FUK-y0qWDaC9WIARDne8Jnp5M-C_Mmfx090XupHHCKKDvJNJ9207O264Dx0bB6Cw3hnFh0mW61uDcap8DYbT6r2MHPfOCa0NFgzZWYSjK3O5g4k1RJnXENQ3MQ5_1tOvUATTdMy3R1b7f5wBTnD894UOHgPH66WUOxuvbLudQpDWXdswH4PwBMF7Lua60WOG7CPKu57oOeWK62a\"\n",
    "#     headers = { 'access_token': access_token }\n",
    "\n",
    "#     response = requests.request(\"POST\", url, headers = headers, files=files)\n",
    "#     print(response)\n",
    "#     #---------------SEND IMAGE TO USER\n",
    "#     if response.ok:\n",
    "#         end_point = \"https://openapi.zalo.me/v2.0/oa/message\"\n",
    "#         user_id = \"8668477534363029464\"\n",
    "#         text = \"BẢNG LƯƠNG CỦA THÁNG 5 NĂM 2022\\n   - Tên: TRẦN ĐÌNH HIẾU\\n   - Ngày Sinh: 21/08/2000\\n   - Chức vụ: TRÙM CHỢ GÀ\"\n",
    "#         payload = { \n",
    "#           \"recipient\": {\n",
    "#             \"user_id\": user_id\n",
    "#           },\n",
    "#           \"message\": {\n",
    "#             \"text\": text,\n",
    "#             \"attachment\": {\n",
    "#                 \"type\": \"template\",\n",
    "#                 \"payload\": {\n",
    "#                     \"template_type\": \"media\",\n",
    "#                     \"elements\": [{\n",
    "#                         \"media_type\": \"image\",\n",
    "#                         \"attachment_id\": response.json()[\"data\"].get(\"attachment_id\"),\n",
    "#         #                 \"url\": \"https://interactive-examples.mdn.mozilla.net/media/cc0-images/grapefruit-slice-332-332.jpg\"\n",
    "#                     }]\n",
    "#                 }\n",
    "#             }\n",
    "#           }\n",
    "#         }\n",
    "#         response = requests.post(end_point, data=json.dumps(payload), headers = headers)\n",
    "#         if response.ok:\n",
    "#             print('send success')\n",
    "#         else:\n",
    "#             print('send failed')\n",
    "#     else:\n",
    "#         print(\"upload image failed\")\n",
    "# else:\n",
    "#     print(\"create image failed\")"
   ]
  }
 ],
 "metadata": {
  "kernelspec": {
   "display_name": "Python 3",
   "language": "python",
   "name": "python3"
  },
  "language_info": {
   "codemirror_mode": {
    "name": "ipython",
    "version": 3
   },
   "file_extension": ".py",
   "mimetype": "text/x-python",
   "name": "python",
   "nbconvert_exporter": "python",
   "pygments_lexer": "ipython3",
   "version": "3.8.8"
  }
 },
 "nbformat": 4,
 "nbformat_minor": 4
}
